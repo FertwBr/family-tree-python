{
  "nbformat": 4,
  "nbformat_minor": 0,
  "metadata": {
    "colab": {
      "provenance": [],
      "authorship_tag": "ABX9TyOO6j4NvjAM/pvQWH+/+EmG",
      "include_colab_link": true
    },
    "kernelspec": {
      "name": "python3",
      "display_name": "Python 3"
    },
    "language_info": {
      "name": "python"
    }
  },
  "cells": [
    {
      "cell_type": "markdown",
      "metadata": {
        "id": "view-in-github",
        "colab_type": "text"
      },
      "source": [
        "<a href=\"https://colab.research.google.com/github/FertwBr/family-tree-python/blob/main/%C3%81rvore_python.ipynb\" target=\"_parent\"><img src=\"https://colab.research.google.com/assets/colab-badge.svg\" alt=\"Open In Colab\"/></a>"
      ]
    },
    {
      "cell_type": "markdown",
      "source": [
        "# Arvore genealógica"
      ],
      "metadata": {
        "id": "PKSCUiaJoe0i"
      }
    },
    {
      "cell_type": "markdown",
      "source": [
        "### Fatos"
      ],
      "metadata": {
        "id": "_Q_8NZ7NpjQl"
      }
    },
    {
      "cell_type": "code",
      "source": [
        "# Definhando se uma pessoa é mulher\n",
        "def mulher(pessoa):\n",
        "  return pessoa in [\"Clara\", \"Maya\", \"Zoe\"]"
      ],
      "metadata": {
        "id": "yRNC1NTFo6Np"
      },
      "execution_count": null,
      "outputs": []
    },
    {
      "cell_type": "code",
      "source": [
        "# Definindo se uma pessoa é homem\n",
        "def homem(pessoa):\n",
        "  return pessoa in [\"Roberto\", \"Dan\", \"Lucca\", \"Lian\"]"
      ],
      "metadata": {
        "id": "FcjYvixlpIvH"
      },
      "execution_count": null,
      "outputs": []
    },
    {
      "cell_type": "markdown",
      "source": [
        "### Regras"
      ],
      "metadata": {
        "id": "k75YcoH9pnB9"
      }
    },
    {
      "cell_type": "code",
      "source": [
        "# Definindo árvore genealógica (pai, filho)\n",
        "arvore_genealogica = [\n",
        "    (\"Roberto\", \"Maya\"),\n",
        "    (\"Roberto\", \"Lucca\"),\n",
        "    (\"Roberto\", \"Lian\"),\n",
        "    (\"Clara\", \"Maya\"),\n",
        "    (\"Clara\", \"Lucca\"),\n",
        "    (\"Clara\", \"Lian\"),\n",
        "    (\"Dan\", \"Zoe\"),\n",
        "    (\"Maya\", \"Zoe\")\n",
        "]"
      ],
      "metadata": {
        "id": "_hGRYmxupRa3"
      },
      "execution_count": null,
      "outputs": []
    },
    {
      "cell_type": "code",
      "source": [
        "\n",
        "# Regras\n",
        "def mae(mae, filho):\n",
        "  \"\"\"Retorna True se 'mae' for mãe de 'filho', False caso contrário.\"\"\"\n",
        "  return progenitor(mae, filho) and mulher(mae)\n",
        "\n",
        "def filho(filho, pai):\n",
        "  \"\"\"Retorna True se 'filho' for filho de 'pai', False caso contrário.\"\"\"\n",
        "  return progenitor(pai, filho)\n",
        "\n",
        "def irmao(pessoa1, pessoa2):\n",
        "  \"\"\"Retorna True se 'pessoa1' e 'pessoa2' forem irmãos, False caso contrário.\"\"\"\n",
        "  for pai, filho1 in arvore_genealogica:\n",
        "    for pai2, filho2 in arvore_genealogica:\n",
        "      if pai == pai2 and filho1 != filho2 and pessoa1 == filho1 and pessoa2 == filho2:\n",
        "        return True\n",
        "  return False\n",
        "\n",
        "def irma(pessoa1, pessoa2):\n",
        "  \"\"\"Retorna True se 'pessoa1' e 'pessoa2' forem irmãs, False caso contrário.\"\"\"\n",
        "  return irmao(pessoa1, pessoa2) and mulher(pessoa1) and mulher(pessoa2)\n",
        "\n",
        "def pai(pai, filho):\n",
        "  \"\"\"Retorna True se 'pai' for pai de 'filho', False caso contrário.\"\"\"\n",
        "  return progenitor(pai, filho) and homem(pai)"
      ],
      "metadata": {
        "id": "wfl34ODtqQmH"
      },
      "execution_count": null,
      "outputs": []
    },
    {
      "cell_type": "markdown",
      "source": [
        "### Perguntas"
      ],
      "metadata": {
        "id": "CcxXrtuLpzVo"
      }
    },
    {
      "cell_type": "code",
      "source": [
        "\n",
        "\n",
        "# Pergunta a: Lucca é irmão de Maya?\n",
        "print(irmao(\"Lucca\", \"Maya\"))"
      ],
      "metadata": {
        "colab": {
          "base_uri": "https://localhost:8080/"
        },
        "id": "iL2k4vMoqPU-",
        "outputId": "9cc7b7d3-0e59-49dc-d498-f61cd590c823"
      },
      "execution_count": null,
      "outputs": [
        {
          "output_type": "stream",
          "name": "stdout",
          "text": [
            "True\n"
          ]
        }
      ]
    },
    {
      "cell_type": "code",
      "source": [
        "# Pergunta b: Quem são os filhos de Roberto?\n",
        "filhos_roberto = []\n",
        "for (pai, filho) in arvore_genealogica:\n",
        "  if pai == \"Roberto\":\n",
        "    filhos_roberto.append(filho)\n",
        "print(filhos_roberto)"
      ],
      "metadata": {
        "colab": {
          "base_uri": "https://localhost:8080/"
        },
        "id": "7jz9zUsHsRBE",
        "outputId": "9871106c-2993-4101-b715-042b26f7c038"
      },
      "execution_count": null,
      "outputs": [
        {
          "output_type": "stream",
          "name": "stdout",
          "text": [
            "['Maya', 'Lucca', 'Lian']\n"
          ]
        }
      ]
    },
    {
      "cell_type": "code",
      "source": [
        "# Pergunta c: Quem é o pai de Zoe?\n",
        "pai_zoe = None\n",
        "for (pai, filho) in arvore_genealogica:\n",
        "  if filho == \"Zoe\" and homem(pai):\n",
        "    pai_zoe = pai\n",
        "print(pai_zoe)"
      ],
      "metadata": {
        "colab": {
          "base_uri": "https://localhost:8080/"
        },
        "id": "9CTo018MsUNX",
        "outputId": "c41a22e2-cbb9-4ce8-f5c8-9b5c40fd5cc0"
      },
      "execution_count": null,
      "outputs": [
        {
          "output_type": "stream",
          "name": "stdout",
          "text": [
            "Dan\n"
          ]
        }
      ]
    }
  ]
}